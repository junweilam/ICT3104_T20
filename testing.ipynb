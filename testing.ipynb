{
 "cells": [
  {
   "cell_type": "code",
   "execution_count": null,
   "metadata": {},
   "outputs": [],
   "source": [
    "import ipywidgets as widgets\n",
    "from IPython.display import display\n",
    "import os\n",
    "import shutil\n",
    "import asyncio\n",
    "\n",
    "# Create a file uploader widget\n",
    "file_upload = widgets.FileUpload(\n",
    "    accept='.mp4',\n",
    "    multiple=False\n",
    ")\n",
    "\n",
    "# Create a button widget\n",
    "save_button = widgets.Button(\n",
    "    description=\"Save MP4\",\n",
    "    disabled=False,\n",
    "    button_style='success'\n",
    ")\n",
    "\n",
    "def save_mp4(b):\n",
    "    if file_upload.value:\n",
    "        # Get the uploaded file\n",
    "        uploaded_file = list(file_upload.value.values())[0]\n",
    "\n",
    "        # Specify the destination folder to save the file\n",
    "        destination_folder = './test/'\n",
    "\n",
    "        # Create the destination folder if it doesn't exist\n",
    "        if not os.path.exists(destination_folder):\n",
    "            os.makedirs(destination_folder)\n",
    "        \n",
    "        with open(os.path.join(destination_folder, uploaded_file['metadata']['name']), 'wb') as f:\n",
    "            f.write(uploaded_file['content'])\n",
    "\n",
    "        # Disable the file uploaded and update the button text\n",
    "        file_upload.disabled = True\n",
    "        save_button.description = \"MP4 Saved!\"\n",
    "    else:\n",
    "        print(\"Please upload an MP4 file first\")\n",
    "\n",
    "display(file_upload, save_button)\n",
    "\n",
    "save_button.on_click(save_mp4)\n"
   ]
  },
  {
   "cell_type": "code",
   "execution_count": null,
   "metadata": {},
   "outputs": [],
   "source": [
    "if file_upload.value == 1:\n",
    "    print(\"one\")\n",
    "else:\n",
    "    print(\"zero\")"
   ]
  },
  {
   "cell_type": "code",
   "execution_count": null,
   "metadata": {},
   "outputs": [],
   "source": [
    "from IPython.display import Video\n",
    "\n",
    "# List videos\n",
    "print(\"Input Videos:\")\n",
    "for file in os.listdir(\"./input\"):\n",
    "    if file.endswith(\".mp4\"):\n",
    "        print(file)\n",
    "\n",
    "print(\"\\nOutput Videos:\")\n",
    "for file in os.listdir(\"./output\"):\n",
    "    if file.endswith(\".mp4\"):\n",
    "        print(file)\n",
    "\n",
    "# TODO add dropdown to allow selection of video\n",
    "selectedVideo = \"input/car-turn.mp4\"\n",
    "\n",
    "# Display selected video\n",
    "Video(selectedVideo)"
   ]
  }
 ],
 "metadata": {
  "kernelspec": {
   "display_name": "Python 3.9.6 64-bit",
   "language": "python",
   "name": "python3"
  },
  "language_info": {
   "codemirror_mode": {
    "name": "ipython",
    "version": 3
   },
   "file_extension": ".py",
   "mimetype": "text/x-python",
   "name": "python",
   "nbconvert_exporter": "python",
   "pygments_lexer": "ipython3",
   "version": "3.9.6"
  },
  "orig_nbformat": 4,
  "vscode": {
   "interpreter": {
    "hash": "31f2aee4e71d21fbe5cf8b01ff0e069b9275f58929596ceb00d14d90e3e16cd6"
   }
  }
 },
 "nbformat": 4,
 "nbformat_minor": 2
}
