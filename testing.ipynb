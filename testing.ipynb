{
 "cells": [
  {
   "cell_type": "code",
   "execution_count": 1,
   "metadata": {},
   "outputs": [
    {
     "name": "stdout",
     "output_type": "stream",
     "text": [
      "Hello\n"
     ]
    }
   ],
   "source": [
    "test = \"Hello\"\n",
    "print(test)\n"
   ]
  },
  {
   "cell_type": "code",
   "execution_count": 2,
   "metadata": {},
   "outputs": [
    {
     "data": {
      "application/vnd.jupyter.widget-view+json": {
       "model_id": "e04e5ea992bb4cf284e6f0dec1bd2b25",
       "version_major": 2,
       "version_minor": 0
      },
      "text/plain": [
       "FileUpload(value=(), accept='.mp4', description='Upload')"
      ]
     },
     "metadata": {},
     "output_type": "display_data"
    }
   ],
   "source": [
    "import os\n",
    "from ipywidgets import FileUpload\n",
    "import shutil\n",
    "\n",
    "# Define the destination directory where the uploaded file will be moved\n",
    "destination_directory = \"data\"\n",
    "\n",
    "# Function to handle the file upload and move it to the destination directory\n",
    "def handle_upload(change):\n",
    "    # Create the destination directory if it doesn't exist\n",
    "    os.makedirs(destination_directory, exist_ok=True)\n",
    "    \n",
    "    for filename, file_info in upload.value.items():\n",
    "        with open(os.path.join(destination_directory, filename), 'wb') as f:\n",
    "            f.write(file_info['content'])\n",
    "        print(f\"Uploaded '{filename}' to '{destination_directory}'\")\n",
    "\n",
    "# Create a file upload widget\n",
    "upload = FileUpload(accept='.mp4')  # You can specify the accepted file type(s) here\n",
    "\n",
    "# Display the widget for users to upload their video\n",
    "display(upload)\n",
    "\n",
    "# Attach the handle_upload function to the widget's observe method\n",
    "upload.observe(handle_upload, names='value')\n"
   ]
  },
  {
   "cell_type": "code",
   "execution_count": 10,
   "metadata": {},
   "outputs": [
    {
     "name": "stdout",
     "output_type": "stream",
     "text": [
      "Input Videos:\n",
      "car-turn.mp4\n",
      "man-skiing.mp4\n",
      "man-surfing.mp4\n",
      "rabbit-watermelon.mp4\n",
      "\n",
      "Output Videos:\n",
      "man-skiing.mp4\n"
     ]
    },
    {
     "data": {
      "text/html": [
       "<video src=\"input/car-turn.mp4\" controls  >\n",
       "      Your browser does not support the <code>video</code> element.\n",
       "    </video>"
      ],
      "text/plain": [
       "<IPython.core.display.Video object>"
      ]
     },
     "execution_count": 10,
     "metadata": {},
     "output_type": "execute_result"
    }
   ],
   "source": [
    "from IPython.display import Video\n",
    "\n",
    "# List videos\n",
    "print(\"Input Videos:\")\n",
    "for file in os.listdir(\"./input\"):\n",
    "    if file.endswith(\".mp4\"):\n",
    "        print(file)\n",
    "\n",
    "print(\"\\nOutput Videos:\")\n",
    "for file in os.listdir(\"./output\"):\n",
    "    if file.endswith(\".mp4\"):\n",
    "        print(file)\n",
    "\n",
    "# TODO add dropdown to allow selection of video\n",
    "selectedVideo = \"input/car-turn.mp4\"\n",
    "\n",
    "# Display selected video\n",
    "Video(selectedVideo)"
   ]
  },
  {
   "cell_type": "code",
   "execution_count": 0,
   "metadata": {},
   "outputs": [
    {
     "data": {
      "application/vnd.jupyter.widget-view+json": {
       "model_id": "8f4a24eca47849c89f80e88128b9900c",
       "version_major": 2,
       "version_minor": 0
      },
      "text/plain": [
       "HTML(value='<h2 style=\"font-size: 20px;\">Generating Video </h2>')"
      ]
     },
     "metadata": {},
     "output_type": "display_data"
    },
    {
     "data": {
      "application/vnd.jupyter.widget-view+json": {
       "model_id": "605ae03a0f3b4ff4b3d21746ce82aab7",
       "version_major": 2,
       "version_minor": 0
      },
      "text/plain": [
       "Dropdown(description='Select a Pose:', options=('car-turn.yaml', 'man-skiing.yaml', 'man-surfing.yaml', 'rabbi…"
      ]
     },
     "metadata": {},
     "output_type": "display_data"
    },
    {
     "data": {
      "application/vnd.jupyter.widget-view+json": {
       "model_id": "f26c82ea360d4cc2a79943054dc38d21",
       "version_major": 2,
       "version_minor": 0
      },
      "text/plain": [
       "HBox(children=(Label(value='Enter your prompt:'), Text(value='', placeholder='eg. A Man is skiing')))"
      ]
     },
     "metadata": {},
     "output_type": "display_data"
    },
    {
     "data": {
      "application/vnd.jupyter.widget-view+json": {
       "model_id": "0c01267ad13d4e34aceb9e542565cab9",
       "version_major": 2,
       "version_minor": 0
      },
      "text/plain": [
       "Button(description='Generate Video', style=ButtonStyle())"
      ]
     },
     "metadata": {},
     "output_type": "display_data"
    },
    {
     "name": "stdout",
     "output_type": "stream",
     "text": [
      "User input: \n",
      "User input: hi\n",
      "User input: avev\n",
      "User input: wave\n"
     ]
    }
   ],
   "source": [
    "# Pose - Pose Skeleton Creation\n",
    "# %pip install ipywidgets\n",
    "import os\n",
    "import ipywidgets as widgets\n",
    "from IPython.display import display\n",
    "\n",
    "# add dropdown to allow selection of poses\n",
    "list_of_poses = []\n",
    "for file in os.listdir(\"./input\"):\n",
    "    if file.endswith(\".yaml\"):\n",
    "        list_of_poses.append(file)\n",
    "\n",
    "pose_dropdown = widgets.Dropdown(\n",
    "    options = list_of_poses,\n",
    "    description='Select a Pose:',\n",
    ")\n",
    "\n",
    "# TODO Create an Image widget to display the selected image\n",
    "# output_image = Image()\n",
    "# Define a function to update the image based on the selected option\n",
    "# def update_image(change):\n",
    "#     selected_option = change['new']\n",
    "#     image_path = image_mapping.get(selected_option, '')  # Get the image URL based on the selected option\n",
    "#     output_image.value = open(image_path, 'rb').read() if image_mapping else None\n",
    "\n",
    "# Attach the function to the dropdown's value change event\n",
    "# pose_dropdown.observe(update_image, names='value')\n",
    "\n",
    "\n",
    "section_label = widgets.HTML(value='<h2 style=\"font-size: 20px;\">Generating Video </h2>')\n",
    "\n",
    "input_label = widgets.Label(value=\"Enter your prompt:\")\n",
    "input_text = widgets.Text(placeholder='eg. A Man is skiing')\n",
    "prompt_input_box = widgets.HBox([input_label, input_text])\n",
    "\n",
    "# Create a button widget\n",
    "button = widgets.Button(description=\"Generate Video\")\n",
    "\n",
    "# Define a function to handle the button click event\n",
    "def on_button_click(b):\n",
    "    print(f\"User input: {input_text.value}\")\n",
    "\n",
    "# Attach the function to the button's click event\n",
    "button.on_click(on_button_click)\n",
    "\n",
    "# Display the widgets\n",
    "display(section_label, pose_dropdown, prompt_input_box, button)\n"
   ]
  },
  {
   "cell_type": "code",
   "execution_count": null,
   "metadata": {},
   "outputs": [],
   "source": [
    "#@markdown Free runtime memory\n",
    "exit()"
   ]
  }
 ],
 "metadata": {
  "kernelspec": {
   "display_name": "Python 3.9.6 64-bit",
   "language": "python",
   "name": "python3"
  },
  "language_info": {
   "codemirror_mode": {
    "name": "ipython",
    "version": 3
   },
   "file_extension": ".py",
   "mimetype": "text/x-python",
   "name": "python",
   "nbconvert_exporter": "python",
   "pygments_lexer": "ipython3",
   "version": "3.11.2"
  },
  "orig_nbformat": 4,
  "vscode": {
   "interpreter": {
    "hash": "31f2aee4e71d21fbe5cf8b01ff0e069b9275f58929596ceb00d14d90e3e16cd6"
   }
  }
 },
 "nbformat": 4,
 "nbformat_minor": 2
}
