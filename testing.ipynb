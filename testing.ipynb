{
 "cells": [
  {
   "cell_type": "code",
   "execution_count": 1,
   "metadata": {},
   "outputs": [
    {
     "name": "stdout",
     "output_type": "stream",
     "text": [
      "Hello\n"
     ]
    }
   ],
   "source": [
    "test = \"Hello\"\n",
    "print(test)"
   ]
  },
  {
   "cell_type": "code",
   "execution_count": 3,
   "metadata": {},
   "outputs": [
    {
     "data": {
      "application/vnd.jupyter.widget-view+json": {
       "model_id": "10b9bde6ed8941fda6bd8b10ffeb69b9",
       "version_major": 2,
       "version_minor": 0
      },
      "text/plain": [
       "FileUpload(value=(), accept='.mp4', description='Upload')"
      ]
     },
     "metadata": {},
     "output_type": "display_data"
    }
   ],
   "source": [
    "import os\n",
    "from ipywidgets import FileUpload\n",
    "import shutil\n",
    "\n",
    "# Define the destination directory where the uploaded file will be moved\n",
    "destination_directory = \"data\"\n",
    "\n",
    "# Function to handle the file upload and move it to the destination directory\n",
    "def handle_upload(change):\n",
    "    # Create the destination directory if it doesn't exist\n",
    "    os.makedirs(destination_directory, exist_ok=True)\n",
    "    \n",
    "    for filename, file_info in upload.value.items():\n",
    "        with open(os.path.join(destination_directory, filename), 'wb') as f:\n",
    "            f.write(file_info['content'])\n",
    "        print(f\"Uploaded '{filename}' to '{destination_directory}'\")\n",
    "\n",
    "# Create a file upload widget\n",
    "upload = FileUpload(accept='.mp4')  # You can specify the accepted file type(s) here\n",
    "\n",
    "# Display the widget for users to upload their video\n",
    "display(upload)\n",
    "\n",
    "# Attach the handle_upload function to the widget's observe method\n",
    "upload.observe(handle_upload, names='value')\n"
   ]
  }
 ],
 "metadata": {
  "kernelspec": {
   "display_name": "Python 3.9.6 64-bit",
   "language": "python",
   "name": "python3"
  },
  "language_info": {
   "codemirror_mode": {
    "name": "ipython",
    "version": 3
   },
   "file_extension": ".py",
   "mimetype": "text/x-python",
   "name": "python",
   "nbconvert_exporter": "python",
   "pygments_lexer": "ipython3",
   "version": "3.11.2"
  },
  "orig_nbformat": 4,
  "vscode": {
   "interpreter": {
    "hash": "31f2aee4e71d21fbe5cf8b01ff0e069b9275f58929596ceb00d14d90e3e16cd6"
   }
  }
 },
 "nbformat": 4,
 "nbformat_minor": 2
}
