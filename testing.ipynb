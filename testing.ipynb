{
 "cells": [
  {
   "cell_type": "code",
   "execution_count": null,
   "metadata": {},
   "outputs": [],
   "source": [
    "import os\n",
    "from ipywidgets import FileUpload\n",
    "import shutil\n",
    "\n",
    "# Define the destination directory where the uploaded file will be moved\n",
    "# destination_directory = \"./output\"\n",
    "\n",
    "# # Function to handle the file upload and move it to the destination directory\n",
    "# def handle_upload():\n",
    "#     print(\"handling upload\")\n",
    "#     # Create the destination directory if it doesn't exist\n",
    "#     # os.makedirs(destination_directory, exist_ok=True)\n",
    "    \n",
    "#     # for filename, file_info in upload.value.items():\n",
    "#     #     with open(os.path.join(destination_directory, filename), 'wb') as f:\n",
    "#     #         f.write(file_info['content'])\n",
    "#     #     print(f\"Uploaded '{filename}' to '{destination_directory}'\")\n",
    "\n",
    "\n",
    "# # Create a file upload widget\n",
    "# upload = FileUpload(accept='.mp4', multiple=False)  # You can specify the accepted file type(s) here\n",
    "\n",
    "# # Display the widget for users to upload their video\n",
    "# display(upload)\n",
    "\n",
    "# input_file = list(upload.value.values())[0]\n",
    "\n",
    "\n",
    "# Attach the handle_upload function to the widget's observe method\n",
    "# upload.observe(handle_upload, names='value')"
   ]
  },
  {
   "cell_type": "code",
   "execution_count": 1,
   "metadata": {},
   "outputs": [
    {
     "data": {
      "application/vnd.jupyter.widget-view+json": {
       "model_id": "25412f6cf7584622b2165e020423fab2",
       "version_major": 2,
       "version_minor": 0
      },
      "text/plain": [
       "FileUpload(value={}, accept='.mp4', description='Upload')"
      ]
     },
     "metadata": {},
     "output_type": "display_data"
    },
    {
     "data": {
      "application/vnd.jupyter.widget-view+json": {
       "model_id": "7987d75a11d64383b35588f23b341992",
       "version_major": 2,
       "version_minor": 0
      },
      "text/plain": [
       "Button(button_style='success', description='Save MP4', style=ButtonStyle())"
      ]
     },
     "metadata": {},
     "output_type": "display_data"
    },
    {
     "name": "stdout",
     "output_type": "stream",
     "text": [
      "Please upload an MP4 file first\n"
     ]
    }
   ],
   "source": [
    "import ipywidgets as widgets\n",
    "from IPython.display import display\n",
    "import os\n",
    "import shutil\n",
    "import asyncio\n",
    "\n",
    "# Create a file uploader widget\n",
    "file_upload = widgets.FileUpload(\n",
    "    accept='.mp4',\n",
    "    multiple=False\n",
    ")\n",
    "\n",
    "# Create a button widget\n",
    "save_button = widgets.Button(\n",
    "    description=\"Save MP4\",\n",
    "    disabled=False,\n",
    "    button_style='success'\n",
    ")\n",
    "\n",
    "def save_mp4(b):\n",
    "    if file_upload.value:\n",
    "        # Get the uploaded file\n",
    "        uploaded_file = list(file_upload.value.values())[0]\n",
    "\n",
    "        # Specify the destination folder to save the file\n",
    "        destination_folder = './test/'\n",
    "\n",
    "        # Create the destination folder if it doesn't exist\n",
    "        if not os.path.exists(destination_folder):\n",
    "            os.makedirs(destination_folder)\n",
    "        \n",
    "        with open(os.path.join(destination_folder, uploaded_file['metadata']['name']), 'wb') as f:\n",
    "            f.write(uploaded_file['content'])\n",
    "\n",
    "        # Disable the file uploaded and update the button text\n",
    "        file_upload.disabled = True\n",
    "        save_button.description = \"MP4 Saved!\"\n",
    "    else:\n",
    "        print(\"Please upload an MP4 file first\")\n",
    "\n",
    "display(file_upload, save_button)\n",
    "\n",
    "save_button.on_click(save_mp4)\n"
   ]
  },
  {
   "cell_type": "code",
   "execution_count": null,
   "metadata": {},
   "outputs": [],
   "source": [
    "if file_upload.value == 1:\n",
    "    print(\"one\")\n",
    "else:\n",
    "    print(\"zero\")"
   ]
  },
  {
   "cell_type": "code",
   "execution_count": null,
   "metadata": {},
   "outputs": [],
   "source": [
    "from IPython.display import Video\n",
    "\n",
    "# List videos\n",
    "print(\"Input Videos:\")\n",
    "for file in os.listdir(\"./input\"):\n",
    "    if file.endswith(\".mp4\"):\n",
    "        print(file)\n",
    "\n",
    "print(\"\\nOutput Videos:\")\n",
    "for file in os.listdir(\"./output\"):\n",
    "    if file.endswith(\".mp4\"):\n",
    "        print(file)\n",
    "\n",
    "# TODO add dropdown to allow selection of video\n",
    "selectedVideo = \"input/car-turn.mp4\"\n",
    "\n",
    "# Display selected video\n",
    "Video(selectedVideo)"
   ]
  }
 ],
 "metadata": {
  "kernelspec": {
   "display_name": "Python 3.9.6 64-bit",
   "language": "python",
   "name": "python3"
  },
  "language_info": {
   "codemirror_mode": {
    "name": "ipython",
    "version": 3
   },
   "file_extension": ".py",
   "mimetype": "text/x-python",
   "name": "python",
   "nbconvert_exporter": "python",
   "pygments_lexer": "ipython3",
   "version": "3.9.6"
  },
  "orig_nbformat": 4,
  "vscode": {
   "interpreter": {
    "hash": "31f2aee4e71d21fbe5cf8b01ff0e069b9275f58929596ceb00d14d90e3e16cd6"
   }
  }
 },
 "nbformat": 4,
 "nbformat_minor": 2
}
