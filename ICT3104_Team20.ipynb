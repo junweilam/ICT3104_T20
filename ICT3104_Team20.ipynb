{
  "nbformat": 4,
  "nbformat_minor": 0,
  "metadata": {
    "colab": {
      "provenance": [],
      "authorship_tag": "ABX9TyNRdFc2sIAUwbbXZFFqMYXZ",
      "include_colab_link": true
    },
    "kernelspec": {
      "name": "python3",
      "display_name": "Python 3"
    },
    "language_info": {
      "name": "python"
    },
    "widgets": {
      "application/vnd.jupyter.widget-state+json": {
        "8d91512f34974967a131ef9d8702fc16": {
          "model_module": "@jupyter-widgets/controls",
          "model_name": "FileUploadModel",
          "model_module_version": "1.5.0",
          "state": {
            "_counter": 1,
            "_dom_classes": [],
            "_model_module": "@jupyter-widgets/controls",
            "_model_module_version": "1.5.0",
            "_model_name": "FileUploadModel",
            "_view_count": null,
            "_view_module": "@jupyter-widgets/controls",
            "_view_module_version": "1.5.0",
            "_view_name": "FileUploadView",
            "accept": ".mp4",
            "button_style": "",
            "data": [
              null
            ],
            "description": "Upload",
            "description_tooltip": null,
            "disabled": true,
            "error": "",
            "icon": "upload",
            "layout": "IPY_MODEL_69f8957db17d41cf865f4fd09c1ea996",
            "metadata": [
              {
                "name": "car-turn.mp4",
                "type": "video/mp4",
                "size": 941900,
                "lastModified": 1696001143066
              }
            ],
            "multiple": false,
            "style": "IPY_MODEL_17952c32474e4090abec1f6d9a72c4f4"
          }
        },
        "69f8957db17d41cf865f4fd09c1ea996": {
          "model_module": "@jupyter-widgets/base",
          "model_name": "LayoutModel",
          "model_module_version": "1.2.0",
          "state": {
            "_model_module": "@jupyter-widgets/base",
            "_model_module_version": "1.2.0",
            "_model_name": "LayoutModel",
            "_view_count": null,
            "_view_module": "@jupyter-widgets/base",
            "_view_module_version": "1.2.0",
            "_view_name": "LayoutView",
            "align_content": null,
            "align_items": null,
            "align_self": null,
            "border": null,
            "bottom": null,
            "display": null,
            "flex": null,
            "flex_flow": null,
            "grid_area": null,
            "grid_auto_columns": null,
            "grid_auto_flow": null,
            "grid_auto_rows": null,
            "grid_column": null,
            "grid_gap": null,
            "grid_row": null,
            "grid_template_areas": null,
            "grid_template_columns": null,
            "grid_template_rows": null,
            "height": null,
            "justify_content": null,
            "justify_items": null,
            "left": null,
            "margin": null,
            "max_height": null,
            "max_width": null,
            "min_height": null,
            "min_width": null,
            "object_fit": null,
            "object_position": null,
            "order": null,
            "overflow": null,
            "overflow_x": null,
            "overflow_y": null,
            "padding": null,
            "right": null,
            "top": null,
            "visibility": null,
            "width": null
          }
        },
        "17952c32474e4090abec1f6d9a72c4f4": {
          "model_module": "@jupyter-widgets/controls",
          "model_name": "ButtonStyleModel",
          "model_module_version": "1.5.0",
          "state": {
            "_model_module": "@jupyter-widgets/controls",
            "_model_module_version": "1.5.0",
            "_model_name": "ButtonStyleModel",
            "_view_count": null,
            "_view_module": "@jupyter-widgets/base",
            "_view_module_version": "1.2.0",
            "_view_name": "StyleView",
            "button_color": null,
            "font_weight": ""
          }
        },
        "d84edf4d34ef469e83427e01f9fd2e92": {
          "model_module": "@jupyter-widgets/controls",
          "model_name": "ButtonModel",
          "model_module_version": "1.5.0",
          "state": {
            "_dom_classes": [],
            "_model_module": "@jupyter-widgets/controls",
            "_model_module_version": "1.5.0",
            "_model_name": "ButtonModel",
            "_view_count": null,
            "_view_module": "@jupyter-widgets/controls",
            "_view_module_version": "1.5.0",
            "_view_name": "ButtonView",
            "button_style": "success",
            "description": "MP4 Saved!",
            "disabled": false,
            "icon": "",
            "layout": "IPY_MODEL_0ae6783281b546e9ace63255376dd2e9",
            "style": "IPY_MODEL_1614821f68ec445da4d14662c231592b",
            "tooltip": ""
          }
        },
        "0ae6783281b546e9ace63255376dd2e9": {
          "model_module": "@jupyter-widgets/base",
          "model_name": "LayoutModel",
          "model_module_version": "1.2.0",
          "state": {
            "_model_module": "@jupyter-widgets/base",
            "_model_module_version": "1.2.0",
            "_model_name": "LayoutModel",
            "_view_count": null,
            "_view_module": "@jupyter-widgets/base",
            "_view_module_version": "1.2.0",
            "_view_name": "LayoutView",
            "align_content": null,
            "align_items": null,
            "align_self": null,
            "border": null,
            "bottom": null,
            "display": null,
            "flex": null,
            "flex_flow": null,
            "grid_area": null,
            "grid_auto_columns": null,
            "grid_auto_flow": null,
            "grid_auto_rows": null,
            "grid_column": null,
            "grid_gap": null,
            "grid_row": null,
            "grid_template_areas": null,
            "grid_template_columns": null,
            "grid_template_rows": null,
            "height": null,
            "justify_content": null,
            "justify_items": null,
            "left": null,
            "margin": null,
            "max_height": null,
            "max_width": null,
            "min_height": null,
            "min_width": null,
            "object_fit": null,
            "object_position": null,
            "order": null,
            "overflow": null,
            "overflow_x": null,
            "overflow_y": null,
            "padding": null,
            "right": null,
            "top": null,
            "visibility": null,
            "width": null
          }
        },
        "1614821f68ec445da4d14662c231592b": {
          "model_module": "@jupyter-widgets/controls",
          "model_name": "ButtonStyleModel",
          "model_module_version": "1.5.0",
          "state": {
            "_model_module": "@jupyter-widgets/controls",
            "_model_module_version": "1.5.0",
            "_model_name": "ButtonStyleModel",
            "_view_count": null,
            "_view_module": "@jupyter-widgets/base",
            "_view_module_version": "1.2.0",
            "_view_name": "StyleView",
            "button_color": null,
            "font_weight": ""
          }
        }
      }
    }
  },
  "cells": [
    {
      "cell_type": "markdown",
      "metadata": {
        "id": "view-in-github",
        "colab_type": "text"
      },
      "source": [
        "<a href=\"https://colab.research.google.com/github/junweilam/ICT3104_T20/blob/main/ICT3104_Team20.ipynb\" target=\"_parent\"><img src=\"https://colab.research.google.com/assets/colab-badge.svg\" alt=\"Open In Colab\"/></a>"
      ]
    },
    {
      "cell_type": "markdown",
      "source": [
        "# Testing"
      ],
      "metadata": {
        "id": "HnBEtHGTkZmq"
      }
    },
    {
      "cell_type": "code",
      "execution_count": 1,
      "metadata": {
        "id": "jHMf5Mumjzuz",
        "colab": {
          "base_uri": "https://localhost:8080/",
          "height": 81,
          "referenced_widgets": [
            "8d91512f34974967a131ef9d8702fc16",
            "69f8957db17d41cf865f4fd09c1ea996",
            "17952c32474e4090abec1f6d9a72c4f4",
            "d84edf4d34ef469e83427e01f9fd2e92",
            "0ae6783281b546e9ace63255376dd2e9",
            "1614821f68ec445da4d14662c231592b"
          ]
        },
        "outputId": "efeab068-5f19-4187-d8d2-55bc81b41b2e"
      },
      "outputs": [
        {
          "output_type": "display_data",
          "data": {
            "text/plain": [
              "FileUpload(value={}, accept='.mp4', description='Upload')"
            ],
            "application/vnd.jupyter.widget-view+json": {
              "version_major": 2,
              "version_minor": 0,
              "model_id": "8d91512f34974967a131ef9d8702fc16"
            }
          },
          "metadata": {}
        },
        {
          "output_type": "display_data",
          "data": {
            "text/plain": [
              "Button(button_style='success', description='Save MP4', style=ButtonStyle())"
            ],
            "application/vnd.jupyter.widget-view+json": {
              "version_major": 2,
              "version_minor": 0,
              "model_id": "d84edf4d34ef469e83427e01f9fd2e92"
            }
          },
          "metadata": {}
        }
      ],
      "source": [
        "# Testing.ipynb\n",
        "\n",
        "import ipywidgets as widgets\n",
        "from IPython.display import display\n",
        "import os\n",
        "import shutil\n",
        "import asyncio\n",
        "import platform\n",
        "\n",
        "# Create a file uploader widget\n",
        "file_upload = widgets.FileUpload(\n",
        "    accept='.mp4',\n",
        "    multiple=False\n",
        ")\n",
        "\n",
        "# Create a button widget\n",
        "save_button = widgets.Button(\n",
        "    description=\"Save MP4\",\n",
        "    disabled=False,\n",
        "    button_style='success'\n",
        ")\n",
        "\n",
        "def save_mp4(b):\n",
        "    if file_upload.value:\n",
        "        # Get the uploaded file\n",
        "        if platform.system() == \"Windows\":\n",
        "            uploaded_file = file_upload.value[0]\n",
        "        elif platform.system() == \"Darwin\":\n",
        "            uploaded_file = list(file_upload.value.values())[0]\n",
        "\n",
        "        # Get the file name\n",
        "        if platform.system() == \"Windows\":\n",
        "            file_name = uploaded_file['metadata']['name'] if 'metadata' in uploaded_file else uploaded_file['name']\n",
        "\n",
        "        # Specify the destination folder to save the file\n",
        "        destination_folder = './test/'\n",
        "\n",
        "        # Create the destination folder if it doesn't exist\n",
        "        if not os.path.exists(destination_folder):\n",
        "            os.makedirs(destination_folder)\n",
        "\n",
        "        if platform.system() == \"Windows\":\n",
        "            with open(os.path.join(destination_folder, file_name), 'wb') as f:\n",
        "                f.write(uploaded_file['content'])\n",
        "        elif platform.system() == \"Darwin\":\n",
        "            with open(os.path.join(destination_folder, uploaded_file['metadata']['name']), 'wb') as f:\n",
        "                f.write(uploaded_file['content'])\n",
        "\n",
        "        # Disable the file uploaded and update the button text\n",
        "        file_upload.disabled = True\n",
        "        save_button.description = \"MP4 Saved!\"\n",
        "    else:\n",
        "        print(\"Please upload an MP4 file first\")\n",
        "\n",
        "display(file_upload, save_button)\n",
        "\n",
        "save_button.on_click(save_mp4)"
      ]
    },
    {
      "cell_type": "code",
      "source": [
        "# Testing.ipynb\n",
        "\n",
        "if file_upload.value == 1:\n",
        "    print(\"one\")\n",
        "else:\n",
        "    print(\"zero\")"
      ],
      "metadata": {
        "id": "cH4bKtDkkJNS",
        "colab": {
          "base_uri": "https://localhost:8080/"
        },
        "outputId": "d41fcf5f-eed6-487c-98a3-cf2e33636bbf"
      },
      "execution_count": 2,
      "outputs": [
        {
          "output_type": "stream",
          "name": "stdout",
          "text": [
            "zero\n"
          ]
        }
      ]
    },
    {
      "cell_type": "code",
      "source": [
        "# Testing .ipynb\n",
        "\n",
        "from IPython.display import Video\n",
        "\n",
        "# List videos\n",
        "print(\"Input Videos:\")\n",
        "for file in os.listdir(\"./input\"):\n",
        "    if file.endswith(\".mp4\"):\n",
        "        print(file)\n",
        "\n",
        "print(\"\\nOutput Videos:\")\n",
        "for file in os.listdir(\"./output\"):\n",
        "    if file.endswith(\".mp4\"):\n",
        "        print(file)\n",
        "\n",
        "# TODO add dropdown to allow selection of video\n",
        "selectedVideo = \"input/car-turn.mp4\"\n",
        "\n",
        "# Display selected video\n",
        "Video(selectedVideo)"
      ],
      "metadata": {
        "id": "kZMnpYeQkMyw",
        "colab": {
          "base_uri": "https://localhost:8080/",
          "height": 262
        },
        "outputId": "712e6048-cdd8-4657-9a83-67b00fac9f7c"
      },
      "execution_count": 3,
      "outputs": [
        {
          "output_type": "stream",
          "name": "stdout",
          "text": [
            "Input Videos:\n"
          ]
        },
        {
          "output_type": "error",
          "ename": "FileNotFoundError",
          "evalue": "ignored",
          "traceback": [
            "\u001b[0;31m---------------------------------------------------------------------------\u001b[0m",
            "\u001b[0;31mFileNotFoundError\u001b[0m                         Traceback (most recent call last)",
            "\u001b[0;32m<ipython-input-3-072dca9b5931>\u001b[0m in \u001b[0;36m<cell line: 7>\u001b[0;34m()\u001b[0m\n\u001b[1;32m      5\u001b[0m \u001b[0;31m# List videos\u001b[0m\u001b[0;34m\u001b[0m\u001b[0;34m\u001b[0m\u001b[0m\n\u001b[1;32m      6\u001b[0m \u001b[0mprint\u001b[0m\u001b[0;34m(\u001b[0m\u001b[0;34m\"Input Videos:\"\u001b[0m\u001b[0;34m)\u001b[0m\u001b[0;34m\u001b[0m\u001b[0;34m\u001b[0m\u001b[0m\n\u001b[0;32m----> 7\u001b[0;31m \u001b[0;32mfor\u001b[0m \u001b[0mfile\u001b[0m \u001b[0;32min\u001b[0m \u001b[0mos\u001b[0m\u001b[0;34m.\u001b[0m\u001b[0mlistdir\u001b[0m\u001b[0;34m(\u001b[0m\u001b[0;34m\"./input\"\u001b[0m\u001b[0;34m)\u001b[0m\u001b[0;34m:\u001b[0m\u001b[0;34m\u001b[0m\u001b[0;34m\u001b[0m\u001b[0m\n\u001b[0m\u001b[1;32m      8\u001b[0m     \u001b[0;32mif\u001b[0m \u001b[0mfile\u001b[0m\u001b[0;34m.\u001b[0m\u001b[0mendswith\u001b[0m\u001b[0;34m(\u001b[0m\u001b[0;34m\".mp4\"\u001b[0m\u001b[0;34m)\u001b[0m\u001b[0;34m:\u001b[0m\u001b[0;34m\u001b[0m\u001b[0;34m\u001b[0m\u001b[0m\n\u001b[1;32m      9\u001b[0m         \u001b[0mprint\u001b[0m\u001b[0;34m(\u001b[0m\u001b[0mfile\u001b[0m\u001b[0;34m)\u001b[0m\u001b[0;34m\u001b[0m\u001b[0;34m\u001b[0m\u001b[0m\n",
            "\u001b[0;31mFileNotFoundError\u001b[0m: [Errno 2] No such file or directory: './input'"
          ]
        }
      ]
    },
    {
      "cell_type": "markdown",
      "source": [
        "\n",
        "\n",
        "```\n",
        "# This is formatted as code\n",
        "```\n",
        "\n",
        "# Testing Checkpoint"
      ],
      "metadata": {
        "id": "UU6pvL9ykTKQ"
      }
    },
    {
      "cell_type": "code",
      "source": [
        "import ipywidgets as widgets\n",
        "from IPython.display import display\n",
        "import os\n",
        "import shutil\n",
        "import asyncio\n",
        "\n",
        "# Create a file uploader widget\n",
        "file_upload = widgets.FileUpload(\n",
        "    accept='.mp4',\n",
        "    multiple=False\n",
        ")\n",
        "\n",
        "# Create a button widget\n",
        "save_button = widgets.Button(\n",
        "    description=\"Save MP4\",\n",
        "    disabled=False,\n",
        "    button_style='success'\n",
        ")\n",
        "\n",
        "def save_mp4(b):\n",
        "    if file_upload.value:\n",
        "        # Get the uploaded file\n",
        "        uploaded_file = file_upload.value[0]\n",
        "\n",
        "        # Get the file name\n",
        "        file_name = uploaded_file['metadata']['name'] if 'metadata' in uploaded_file else uploaded_file['name']\n",
        "\n",
        "        # Specify the destination folder to save the file\n",
        "        destination_folder = './test/'\n",
        "\n",
        "        # Create the destination folder if it doesn't exist\n",
        "        if not os.path.exists(destination_folder):\n",
        "            os.makedirs(destination_folder)\n",
        "\n",
        "        with open(os.path.join(destination_folder, file_name), 'wb') as f:\n",
        "            f.write(uploaded_file['content'])\n",
        "\n",
        "        # Disable the file uploaded and update the button text\n",
        "        file_upload.disabled = True\n",
        "        save_button.description = \"MP4 Saved!\"\n",
        "    else:\n",
        "        print(\"Please upload an MP4 file first\")\n",
        "\n",
        "display(file_upload, save_button)\n",
        "\n",
        "save_button.on_click(save_mp4)"
      ],
      "metadata": {
        "id": "Me8gZP-_kfvM"
      },
      "execution_count": null,
      "outputs": []
    },
    {
      "cell_type": "code",
      "source": [
        "if file_upload.value == 1:\n",
        "    print(\"one\")\n",
        "else:\n",
        "    print(\"zero\")"
      ],
      "metadata": {
        "id": "m2cSt72AkjD2"
      },
      "execution_count": null,
      "outputs": []
    },
    {
      "cell_type": "code",
      "source": [
        "from IPython.display import Video\n",
        "\n",
        "# List videos\n",
        "print(\"Input Videos:\")\n",
        "for file in os.listdir(\"./input\"):\n",
        "    if file.endswith(\".mp4\"):\n",
        "        print(file)\n",
        "\n",
        "print(\"\\nOutput Videos:\")\n",
        "for file in os.listdir(\"./output\"):\n",
        "    if file.endswith(\".mp4\"):\n",
        "        print(file)\n",
        "\n",
        "# TODO add dropdown to allow selection of video\n",
        "selectedVideo = \"input/car-turn.mp4\"\n",
        "\n",
        "# Display selected video\n",
        "Video(selectedVideo)"
      ],
      "metadata": {
        "id": "UDQcFbJqklE4"
      },
      "execution_count": null,
      "outputs": []
    },
    {
      "cell_type": "code",
      "source": [],
      "metadata": {
        "colab": {
          "base_uri": "https://localhost:8080/"
        },
        "id": "K7ODoO8rmsPM",
        "outputId": "98eff7a3-8364-4dfa-c755-3bcf08bd47bb"
      },
      "execution_count": 4,
      "outputs": [
        {
          "output_type": "stream",
          "name": "stdout",
          "text": [
            "/bin/bash: line 1: nvidia-smi: command not found\n"
          ]
        }
      ]
    }
  ]
}