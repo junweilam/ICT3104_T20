{
  "cells": [
    {
      "cell_type": "markdown",
      "metadata": {
        "id": "view-in-github",
        "colab_type": "text"
      },
      "source": [
        "<a href=\"https://colab.research.google.com/github/junweilam/ICT3104_T20/blob/main/ICT3104_Team20.ipynb\" target=\"_parent\"><img src=\"https://colab.research.google.com/assets/colab-badge.svg\" alt=\"Open In Colab\"/></a>"
      ]
    },
    {
      "cell_type": "markdown",
      "metadata": {
        "id": "HnBEtHGTkZmq"
      },
      "source": [
        "# Testing"
      ]
    },
    {
      "cell_type": "markdown",
      "metadata": {
        "id": "QRx8WYKj4wmi"
      },
      "source": [
        "**Installing of necessary dependencies**"
      ]
    },
    {
      "cell_type": "code",
      "execution_count": null,
      "metadata": {
        "id": "QkfrriZG8HkP"
      },
      "outputs": [],
      "source": [
        "!pip install ipywidgets==7.6.3\n",
        "!pip install pyyaml\n",
        "!pip install opencv-python-headless"
      ]
    },
    {
      "cell_type": "code",
      "execution_count": null,
      "metadata": {
        "id": "_3L3k0RL9RMN"
      },
      "outputs": [],
      "source": [
        "!nvidia-smi --query-gpu=name,memory.total,memory.free --format=csv,noheader"
      ]
    },
    {
      "cell_type": "markdown",
      "metadata": {
        "id": "f-_qM8wp46Jd"
      },
      "source": [
        "**Installation for Debugger**"
      ]
    },
    {
      "cell_type": "code",
      "execution_count": null,
      "metadata": {
        "id": "hv-YNQycugJz"
      },
      "outputs": [],
      "source": [
        "#Debugger\n",
        "!pip install -Uqq ipdb\n",
        "import ipdb"
      ]
    },
    {
      "cell_type": "markdown",
      "metadata": {
        "id": "-omKrkiU5F9d"
      },
      "source": [
        "**Debugger Switch (On/Off)**"
      ]
    },
    {
      "cell_type": "code",
      "execution_count": null,
      "metadata": {
        "id": "UtHiKNusu7Rx"
      },
      "outputs": [],
      "source": [
        "# Turn On Debugger\n",
        "%pdb on\n",
        "\n",
        "# Turn Off Debugger\n",
        "# %pdb off"
      ]
    },
    {
      "cell_type": "markdown",
      "metadata": {
        "id": "WiQtjQsw6t8w"
      },
      "source": [
        "# **Uploading Of Input Video File in .mp4 format** (T20-1)\n",
        "1.   Run the cell and click the \"Upload\" button to upload a video in .mp4 format\n",
        "2.   Once file is selected, click \"Save MP4\" button to save the .mp4 file\n",
        "3.   File is saved when progress bar is 100% green and \"Save MP4\" button is changed to \"MP4 Saved!\"\n",
        "\n"
      ]
    },
    {
      "cell_type": "code",
      "execution_count": null,
      "metadata": {
        "id": "jHMf5Mumjzuz"
      },
      "outputs": [],
      "source": [
        "# Testing.ipynb\n",
        "\n",
        "import ipywidgets as widgets\n",
        "from IPython.display import display\n",
        "import os\n",
        "import shutil\n",
        "import asyncio\n",
        "import platform\n",
        "import time\n",
        "from base64 import b64encode\n",
        "\n",
        "\n",
        "# Create a file uploader widget\n",
        "file_upload = widgets.FileUpload(\n",
        "    accept='.mp4',\n",
        "    multiple=False\n",
        ")\n",
        "\n",
        "# Create a button widget\n",
        "save_button = widgets.Button(\n",
        "    description=\"Save MP4\",\n",
        "    disabled=False,\n",
        "    button_style='success'\n",
        ")\n",
        "\n",
        "# Create a progress widget\n",
        "progress = widgets.FloatProgress(\n",
        "    value=0,\n",
        "    min=0,\n",
        "    max=100,\n",
        "    bar_style=\"success\"\n",
        ")\n",
        "\n",
        "def update_progress_bar():\n",
        "  progress.value += 25\n",
        "  time.sleep(1)\n",
        "\n",
        "def save_mp4(b):\n",
        "    if file_upload.value:\n",
        "        # Get the uploaded file\n",
        "        uploaded_file = list(file_upload.value.values())[0]\n",
        "\n",
        "        update_progress_bar()\n",
        "\n",
        "        # Specify the destination folder to save the file\n",
        "        destination_folder = './input/'\n",
        "\n",
        "        update_progress_bar()\n",
        "\n",
        "        # Create the destination folder if it doesn't exist\n",
        "        if not os.path.exists(destination_folder):\n",
        "            os.makedirs(destination_folder)\n",
        "\n",
        "        update_progress_bar()\n",
        "\n",
        "        with open(os.path.join(destination_folder, uploaded_file['metadata']['name']), 'wb') as f:\n",
        "            f.write(uploaded_file['content'])\n",
        "\n",
        "        update_progress_bar()\n",
        "\n",
        "        # Disable the file uploaded and update the button text\n",
        "        file_upload.disabled = True\n",
        "        save_button.description = \"MP4 Saved!\"\n",
        "    else:\n",
        "        print(\"Please upload an MP4 file first\")\n",
        "\n",
        "display(file_upload, save_button, progress)\n",
        "\n",
        "save_button.on_click(save_mp4)"
      ]
    },
    {
      "cell_type": "markdown",
      "source": [
        "# **Viewing of uploaded videos** (T20-21)\n",
        "\n",
        "1.   Select a video uploaded from the dropdown list\n",
        "2.   Click the \"Play Video\" button to display and view the video"
      ],
      "metadata": {
        "id": "3PKSwC8uCzjl"
      }
    },
    {
      "cell_type": "code",
      "source": [
        "# Testing .ipynb\n",
        "import os\n",
        "from IPython.display import Video, display, HTML\n",
        "import ipywidgets as widgets\n",
        "\n",
        "\n",
        "# Path to the input directory\n",
        "input_directory = './input'\n",
        "video_files = []\n",
        "if os.path.exists(input_directory):\n",
        "  # Get a list of video files in the input directory\n",
        "  video_files = [file for file in os.listdir(input_directory) if file.endswith('.mp4')]\n",
        "\n",
        "# Create a dropdown widget with video file options\n",
        "video_dropdown = widgets.Dropdown(\n",
        "    options=video_files,\n",
        "    description='Select Video:'\n",
        ")\n",
        "\n",
        "\n",
        "# Create a button widget for playing the selected video\n",
        "play_button = widgets.Button(description=\"Play Video\")\n",
        "\n",
        "# Function to handle button click event\n",
        "def play_video(event):\n",
        "    selected_video = video_dropdown.value\n",
        "    video_path = os.path.join(input_directory, selected_video)\n",
        "    # display(Video(video_path, width=640, height=360))  # Adjust width and height as needed\n",
        "\n",
        "    # For Google Collab\n",
        "    mp4 = open(video_path,'rb').read()\n",
        "    data_url = \"data:video/mp4;base64,\" + b64encode(mp4).decode()\n",
        "    display(HTML(\"\"\"<video width=400 controls><source src=\"%s\" type=\"video/mp4\"></video>\"\"\" % data_url))\n",
        "\n",
        "\n",
        "# Attach the function to the button's click event\n",
        "play_button.on_click(play_video)\n",
        "\n",
        "# Display the dropdown and button widgets\n",
        "display(video_dropdown)\n",
        "display(play_button)"
      ],
      "metadata": {
        "id": "J6NQAkI4C0xW"
      },
      "execution_count": null,
      "outputs": []
    }
  ],
  "metadata": {
    "accelerator": "GPU",
    "colab": {
      "provenance": [],
      "collapsed_sections": [
        "BfEDCST37J88",
        "NlyqeKWQ5vGn",
        "P-o9mSNTnoAR",
        "ckPnQEjYOT_v",
        "71UCdwBu_1WA"
      ],
      "include_colab_link": true
    },
    "kernelspec": {
      "display_name": "Python 3",
      "name": "python3"
    },
    "language_info": {
      "name": "python"
    }
  },
  "nbformat": 4,
  "nbformat_minor": 0
}